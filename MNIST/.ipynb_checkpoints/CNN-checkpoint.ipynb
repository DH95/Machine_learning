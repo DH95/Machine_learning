{
 "cells": [
  {
   "cell_type": "markdown",
   "metadata": {},
   "source": [
    "# Basic CNN "
   ]
  },
  {
   "cell_type": "code",
   "execution_count": 1,
   "metadata": {},
   "outputs": [
    {
     "name": "stderr",
     "output_type": "stream",
     "text": [
      "/Users/kakao/.pyenv/versions/anaconda3-5.0.1/lib/python3.6/importlib/_bootstrap.py:219: RuntimeWarning: compiletime version 3.5 of module 'tensorflow.python.framework.fast_tensor_util' does not match runtime version 3.6\n",
      "  return f(*args, **kwds)\n"
     ]
    }
   ],
   "source": [
    "from tensorflow.examples.tutorials.mnist import input_data\n",
    "import tensorflow as tf\n",
    "import numpy as np\n",
    "import matplotlib.pyplot as plt\n",
    "sess = tf.Session()"
   ]
  },
  {
   "cell_type": "code",
   "execution_count": 14,
   "metadata": {
    "collapsed": true
   },
   "outputs": [],
   "source": [
    "def conv(input2d, filter2d, padding=True, strides=[1,1,1,1]):\n",
    "    \n",
    "    input_h, input_w = input2d.get_shape().as_list()\n",
    "    filter_h, filter_w = filter2d.get_shape().as_list()\n",
    "    \n",
    "    input4d = tf.reshape(input2d, [1, input_h, input_w, 1])\n",
    "    filter4d = tf.reshape(filter2d, [filter_h, filter_w, 1,1])\n",
    "    \n",
    "    pad = 'SAME' if padding else 'VALID'\n",
    "    conv2d = tf.nn.conv2d(input=input4d, filter=filter4d, strides = strides, padding=pad)\n",
    "    _, conv_h, conv_w, _2 = conv2d.get_shape().as_list()\n",
    "    conv_reshape = tf.reshape(conv2d, [conv_h, conv_w])\n",
    "    return conv2d.get_shape().as_list(), conv2d"
   ]
  },
  {
   "cell_type": "code",
   "execution_count": 15,
   "metadata": {
    "scrolled": true
   },
   "outputs": [
    {
     "name": "stdout",
     "output_type": "stream",
     "text": [
      "[1, 3, 3, 1] [1, 3, 3, 1]\n",
      "[[[[ 9.]\n",
      "   [ 6.]\n",
      "   [ 9.]]\n",
      "\n",
      "  [[ 6.]\n",
      "   [ 9.]\n",
      "   [ 6.]]\n",
      "\n",
      "  [[ 9.]\n",
      "   [ 6.]\n",
      "   [ 9.]]]]\n"
     ]
    }
   ],
   "source": [
    "input1 = tf.tile(tf.constant([[1,2],[4,8]], dtype = tf.float32), [2,2])\n",
    "filter1 = tf.constant(value = [[1,0], [0,1]], dtype = tf.float32)\n",
    "filter2 = tf.constant(value = [[1,1], [0,0]], dtype = tf.float32)\n",
    "\n",
    "shape1, tensor1 = conv(input1, filter1, padding = False, strides=[1,1,1,1])\n",
    "shape2, tensor2 = conv(input1, filter2, padding = False, strides=[1,1,1,1])\n",
    "print(shape1, shape2)\n",
    "print(sess.run(tensor1))"
   ]
  },
  {
   "cell_type": "code",
   "execution_count": 2,
   "metadata": {
    "collapsed": true
   },
   "outputs": [],
   "source": [
    "def get_shape(tensor):\n",
    "    return tensor.get_shape().as_list()\n",
    "def print_var(name):\n",
    "    print(\"\\n\".join([\"{} : {}\".format(v.name, get_shape(v)) for v in tf.get_collection(name)]))"
   ]
  },
  {
   "cell_type": "code",
   "execution_count": 3,
   "metadata": {},
   "outputs": [
    {
     "name": "stdout",
     "output_type": "stream",
     "text": [
      "Successfully downloaded train-images-idx3-ubyte.gz 9912422 bytes.\n",
      "Extracting ../MNIST_data/train-images-idx3-ubyte.gz\n",
      "Successfully downloaded train-labels-idx1-ubyte.gz 28881 bytes.\n",
      "Extracting ../MNIST_data/train-labels-idx1-ubyte.gz\n",
      "Successfully downloaded t10k-images-idx3-ubyte.gz 1648877 bytes.\n",
      "Extracting ../MNIST_data/t10k-images-idx3-ubyte.gz\n",
      "Successfully downloaded t10k-labels-idx1-ubyte.gz 4542 bytes.\n",
      "Extracting ../MNIST_data/t10k-labels-idx1-ubyte.gz\n"
     ]
    }
   ],
   "source": [
    "mnist = input_data.read_data_sets('../MNIST_data', one_hot=True)"
   ]
  },
  {
   "cell_type": "code",
   "execution_count": 41,
   "metadata": {
    "collapsed": true
   },
   "outputs": [],
   "source": [
    "train = {}\n",
    "valid = {}\n",
    "test = {}\n",
    "train['input'] = mnist.train.images\n",
    "train['output'] = mnist.train.labels\n",
    "valid['input'] = mnist.validation.images\n",
    "valid['output'] = mnist.validation.labels\n",
    "test['input'] = mnist.test.images\n",
    "test['output'] = mnist.test.labels"
   ]
  },
  {
   "cell_type": "code",
   "execution_count": 35,
   "metadata": {},
   "outputs": [],
   "source": [
    "# model parameters\n",
    "image_size = 28 * 28\n",
    "image_row = 28\n",
    "conv_filter1 = [3,3]\n",
    "conv_channel1 = 20\n",
    "conv_filter2 = [5,5]\n",
    "conv_channel2 = 40\n",
    "hidden = 100\n",
    "classes = 10\n",
    "\n",
    "# train parameters\n",
    "learning_rate = 1e-4\n",
    "epoch = 5\n",
    "ntrain = len(train['input'])\n",
    "batch_size = 100\n",
    "nbatch = ntrain//batch_size\n",
    "log = 50"
   ]
  },
  {
   "cell_type": "code",
   "execution_count": 36,
   "metadata": {},
   "outputs": [
    {
     "name": "stdout",
     "output_type": "stream",
     "text": [
      "Input Reshape [None, 784] -> [None, 28, 28, 1]\n",
      "Conv1 [None, 28, 28, 1] -> [None, 26, 26, 20]\n",
      "Pool1 [None, 26, 26, 20] -> [None, 13, 13, 20]\n",
      "Conv2 [None, 13, 13, 20] -> [None, 12, 12, 40]\n",
      "Fc1 [None, 5760] -> [None, 100]\n",
      "Fc1 [None, 100] -> [None, 10]\n"
     ]
    }
   ],
   "source": [
    "# layers : conv x 2 -> fc\n",
    "\n",
    "maps = tf.placeholder(dtype = tf.float32, shape = [None, image_size], name = 'image')\n",
    "labels = tf.placeholder(dtype = tf.float32, shape = [None, classes], name = 'label')\n",
    "\n",
    "maps_r = tf.reshape(maps, [-1, image_row, image_row, 1]) #4D tensor\n",
    "\n",
    "conv_layer1 = {}\n",
    "conv_layer2 = {}\n",
    "fc_layer1 = {}\n",
    "fc_layer2 = {}\n",
    "\n",
    "with tf.variable_scope(\"conv_layer1\"):\n",
    "    \n",
    "    initializer = tf.contrib.layers.xavier_initializer()\n",
    "    conv_layer1['w'] = tf.Variable(initializer([conv_filter1[0], conv_filter1[1], 1, conv_channel1]))\n",
    "    conv_layer1['b'] = tf.Variable(initial_value = tf.constant(value=0.01, shape=[conv_channel1]), name = 'bias1')\n",
    "    \n",
    "    conv_layer1['conv'] = tf.nn.conv2d(maps_r, conv_layer1['w'], strides=[1,1,1,1], padding=\"VALID\") + conv_layer1['b']\n",
    "    \n",
    "    conv_layer1['relu'] = tf.nn.relu(conv_layer1['conv'])\n",
    "    conv_layer1['pool'] = tf.nn.max_pool(conv_layer1['relu'], ksize=[1,2,2,1], strides = [1,2,2,1], padding='VALID')\n",
    "    \n",
    "with tf.variable_scope(\"conv_layer2\"):\n",
    "    \n",
    "    initializer = tf.contrib.layers.xavier_initializer()\n",
    "    conv_layer2['w'] = tf.Variable(initializer([conv_filter2[0], conv_filter2[1], 1, conv_channel2]))\n",
    "    conv_layer2['b'] = tf.Variable(initial_value = tf.constant(value=0.01, shape=[conv_channel2]), name = 'bias2')\n",
    "    \n",
    "    conv_layer2['conv'] = tf.nn.conv2d(maps_r, conv_layer2['w'], strides=[1,1,1,1], padding=\"VALID\") + conv_layer2['b']\n",
    "    \n",
    "    conv_layer2['relu'] = tf.nn.relu(conv_layer2['conv'])\n",
    "    conv_layer2['pool'] = tf.nn.max_pool(conv_layer2['relu'], ksize=[1,2,2,1], strides = [1,2,2,1], padding='VALID')\n",
    "    \n",
    "    conv_shape = get_shape(conv_layer2['pool'])\n",
    "    flat_size = conv_shape[1] * conv_shape[2] * conv_shape[3]\n",
    "    conv_layer2['flat'] = tf.reshape(conv_layer2['pool'], [-1, flat_size])\n",
    "    \n",
    "with tf.variable_scope(\"fc_layer1\"):\n",
    "    \n",
    "    fc_layer1['w'] = tf.Variable(initial_value = tf.random_normal(shape = [flat_size, hidden],\n",
    "                                                                 mean = 0.0, stddev = 0.1), name = 'weight')\n",
    "    fc_layer1['b'] = tf.Variable(initial_value = tf.random_normal(shape = [hidden])\n",
    "                                , name = 'bias')\n",
    "    fc_layer1['out'] = tf.nn.relu(tf.add(tf.matmul(conv_layer2['flat'], fc_layer1['w']), fc_layer1['b']))\n",
    "    \n",
    "with tf.variable_scope(\"fc_layer2\"):\n",
    "    \n",
    "    fc_layer2['w'] = tf.Variable(initial_value = tf.random_normal(shape = [hidden, classes],\n",
    "                                                                mean = 0.0, stddev = 0.1), name = 'weight')\n",
    "    fc_layer2['b'] = tf.Variable(initial_value = tf.random_normal(shape = [classes])\n",
    "                                , name = 'bias')\n",
    "    fc_layer2['out'] = tf.nn.softmax(tf.add(tf.matmul(fc_layer1['out'], fc_layer2['w']), fc_layer2['b']))\n",
    "\n",
    "    \n",
    "print(\"Input Reshape {} -> {}\".format(get_shape(maps), get_shape(maps_r)))\n",
    "print(\"Conv1 {} -> {}\".format(get_shape(maps_r), get_shape(conv_layer1['conv'])))\n",
    "print(\"Pool1 {} -> {}\".format(get_shape(conv_layer1['relu']), get_shape(conv_layer1['pool'])))\n",
    "print(\"Conv2 {} -> {}\".format(get_shape(conv_layer1['pool']), get_shape(conv_layer2['pool'])))\n",
    "print(\"Fc1 {} -> {}\".format(get_shape(conv_layer2['flat']), get_shape(fc_layer1['out'])))\n",
    "print(\"Fc1 {} -> {}\".format(get_shape(fc_layer1['out']), get_shape(fc_layer2['out'])))"
   ]
  },
  {
   "cell_type": "markdown",
   "metadata": {},
   "source": [
    "# Training"
   ]
  },
  {
   "cell_type": "code",
   "execution_count": 37,
   "metadata": {},
   "outputs": [],
   "source": [
    "cross_entropy = -tf.reduce_mean(labels * tf.log(fc_layer2['out']))\n",
    "prediction = tf.equal(tf.argmax(fc_layer2['out'], 1), tf.argmax(labels, 1))\n",
    "accuracy = tf.reduce_mean(tf.cast(prediction, tf.float32))"
   ]
  },
  {
   "cell_type": "code",
   "execution_count": 38,
   "metadata": {
    "collapsed": true
   },
   "outputs": [],
   "source": [
    "run_train = tf.train.AdamOptimizer(learning_rate).minimize(cross_entropy)\n",
    "sess = tf.Session()\n",
    "sess.run(tf.global_variables_initializer())"
   ]
  },
  {
   "cell_type": "code",
   "execution_count": 45,
   "metadata": {},
   "outputs": [
    {
     "name": "stdout",
     "output_type": "stream",
     "text": [
      "Epoch(1/5) 50 th batch trained : 99.0 %, validation : 98.6 %\n",
      "Epoch(1/5) 100 th batch trained : 99.0 %, validation : 98.4 %\n",
      "Epoch(1/5) 150 th batch trained : 99.0 %, validation : 98.5 %\n",
      "Epoch(1/5) 200 th batch trained : 98.0 %, validation : 98.5 %\n",
      "Epoch(1/5) 250 th batch trained : 100.0 %, validation : 98.4 %\n",
      "Epoch(1/5) 300 th batch trained : 97.0 %, validation : 98.6 %\n",
      "Epoch(1/5) 350 th batch trained : 98.0 %, validation : 98.4 %\n",
      "Epoch(1/5) 400 th batch trained : 100.0 %, validation : 98.5 %\n",
      "Epoch(1/5) 450 th batch trained : 100.0 %, validation : 98.5 %\n",
      "Epoch(1/5) 500 th batch trained : 98.0 %, validation : 98.7 %\n",
      "Epoch(1/5) 550 th batch trained : 100.0 %, validation : 98.6 %\n",
      "Epoch(2/5) 50 th batch trained : 100.0 %, validation : 98.6 %\n",
      "Epoch(2/5) 100 th batch trained : 100.0 %, validation : 98.7 %\n",
      "Epoch(2/5) 150 th batch trained : 98.0 %, validation : 98.5 %\n",
      "Epoch(2/5) 200 th batch trained : 100.0 %, validation : 98.5 %\n",
      "Epoch(2/5) 250 th batch trained : 98.0 %, validation : 98.6 %\n",
      "Epoch(2/5) 300 th batch trained : 100.0 %, validation : 98.6 %\n",
      "Epoch(2/5) 350 th batch trained : 99.0 %, validation : 98.6 %\n",
      "Epoch(2/5) 400 th batch trained : 100.0 %, validation : 98.6 %\n",
      "Epoch(2/5) 450 th batch trained : 98.0 %, validation : 98.6 %\n",
      "Epoch(2/5) 500 th batch trained : 100.0 %, validation : 98.7 %\n",
      "Epoch(2/5) 550 th batch trained : 100.0 %, validation : 98.6 %\n",
      "Epoch(3/5) 50 th batch trained : 99.0 %, validation : 98.6 %\n",
      "Epoch(3/5) 100 th batch trained : 100.0 %, validation : 98.5 %\n",
      "Epoch(3/5) 150 th batch trained : 99.0 %, validation : 98.6 %\n",
      "Epoch(3/5) 200 th batch trained : 100.0 %, validation : 98.5 %\n",
      "Epoch(3/5) 250 th batch trained : 100.0 %, validation : 98.7 %\n",
      "Epoch(3/5) 300 th batch trained : 99.0 %, validation : 98.6 %\n",
      "Epoch(3/5) 350 th batch trained : 99.0 %, validation : 98.7 %\n",
      "Epoch(3/5) 400 th batch trained : 100.0 %, validation : 98.8 %\n",
      "Epoch(3/5) 450 th batch trained : 100.0 %, validation : 98.6 %\n",
      "Epoch(3/5) 500 th batch trained : 100.0 %, validation : 98.6 %\n",
      "Epoch(3/5) 550 th batch trained : 100.0 %, validation : 98.7 %\n",
      "Epoch(4/5) 50 th batch trained : 100.0 %, validation : 98.7 %\n",
      "Epoch(4/5) 100 th batch trained : 100.0 %, validation : 98.6 %\n",
      "Epoch(4/5) 150 th batch trained : 99.0 %, validation : 98.6 %\n",
      "Epoch(4/5) 200 th batch trained : 98.0 %, validation : 98.6 %\n",
      "Epoch(4/5) 250 th batch trained : 100.0 %, validation : 98.7 %\n",
      "Epoch(4/5) 300 th batch trained : 100.0 %, validation : 98.7 %\n",
      "Epoch(4/5) 350 th batch trained : 98.0 %, validation : 98.7 %\n",
      "Epoch(4/5) 400 th batch trained : 99.0 %, validation : 98.7 %\n",
      "Epoch(4/5) 450 th batch trained : 100.0 %, validation : 98.6 %\n",
      "Epoch(4/5) 500 th batch trained : 99.0 %, validation : 98.6 %\n",
      "Epoch(4/5) 550 th batch trained : 100.0 %, validation : 98.5 %\n",
      "Epoch(5/5) 50 th batch trained : 100.0 %, validation : 98.7 %\n",
      "Epoch(5/5) 100 th batch trained : 100.0 %, validation : 98.7 %\n",
      "Epoch(5/5) 150 th batch trained : 99.0 %, validation : 98.8 %\n",
      "Epoch(5/5) 200 th batch trained : 99.0 %, validation : 98.8 %\n",
      "Epoch(5/5) 250 th batch trained : 99.0 %, validation : 98.7 %\n",
      "Epoch(5/5) 300 th batch trained : 100.0 %, validation : 98.7 %\n",
      "Epoch(5/5) 350 th batch trained : 100.0 %, validation : 98.6 %\n",
      "Epoch(5/5) 400 th batch trained : 100.0 %, validation : 98.6 %\n",
      "Epoch(5/5) 450 th batch trained : 97.0 %, validation : 98.8 %\n",
      "Epoch(5/5) 500 th batch trained : 100.0 %, validation : 98.7 %\n",
      "Epoch(5/5) 550 th batch trained : 100.0 %, validation : 98.6 %\n",
      "Test accuracy=98.6 %\n"
     ]
    }
   ],
   "source": [
    "\n",
    "for epoch_ in range(epoch):\n",
    "    index = np.arange(len(train['input']))\n",
    "    np.random.shuffle(index)\n",
    "    trX = train['input'][index]\n",
    "    trY = train['output'][index]\n",
    "    val_feed_dict = {maps : valid['input'], labels : valid['output']}\n",
    "    \n",
    "    \n",
    "    for batch_ in range(nbatch):\n",
    "        train_feed_dict = {maps : trX[batch_size * batch_: batch_size * (batch_ + 1)],\n",
    "                          labels : trY[batch_size*batch_ : batch_size * (batch_ +1)]}\n",
    "        sess.run(run_train, feed_dict=train_feed_dict)\n",
    "        \n",
    "        if batch_ % log == log -1 :\n",
    "            train_acc = 100 * sess.run(accuracy, feed_dict=train_feed_dict)\n",
    "            val_acc = 100 * sess.run(accuracy, feed_dict=val_feed_dict)\n",
    "            print(\"Epoch(%d/%d) %d th batch trained : %.1f %%, validation : %.1f %%\"%(epoch_+1, epoch, batch_ +1, train_acc, val_acc))\n",
    "    \n",
    "test_feed_dict = {maps : test['input'],  \n",
    "                  labels : test['output']}\n",
    "\n",
    "test_accuracy = 100*sess.run(accuracy, feed_dict=test_feed_dict)\n",
    "print(\"Test accuracy=%.1f %%\"%(test_accuracy))    "
   ]
  }
 ],
 "metadata": {
  "kernelspec": {
   "display_name": "Python 3",
   "language": "python",
   "name": "python3"
  },
  "language_info": {
   "codemirror_mode": {
    "name": "ipython",
    "version": 3
   },
   "file_extension": ".py",
   "mimetype": "text/x-python",
   "name": "python",
   "nbconvert_exporter": "python",
   "pygments_lexer": "ipython3",
   "version": "3.6.3"
  }
 },
 "nbformat": 4,
 "nbformat_minor": 2
}
